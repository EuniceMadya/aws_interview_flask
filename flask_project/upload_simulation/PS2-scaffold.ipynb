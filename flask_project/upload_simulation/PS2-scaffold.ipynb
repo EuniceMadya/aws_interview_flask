{
 "cells": [
  {
   "cell_type": "code",
   "execution_count": 1,
   "metadata": {},
   "outputs": [
    {
     "data": {
      "text/html": [
       "<div>\n",
       "<style scoped>\n",
       "    .dataframe tbody tr th:only-of-type {\n",
       "        vertical-align: middle;\n",
       "    }\n",
       "\n",
       "    .dataframe tbody tr th {\n",
       "        vertical-align: top;\n",
       "    }\n",
       "\n",
       "    .dataframe thead th {\n",
       "        text-align: right;\n",
       "    }\n",
       "</style>\n",
       "<table border=\"1\" class=\"dataframe\">\n",
       "  <thead>\n",
       "    <tr style=\"text-align: right;\">\n",
       "      <th></th>\n",
       "      <th>created_at</th>\n",
       "      <th>display_text_range</th>\n",
       "      <th>favorite_count</th>\n",
       "      <th>Bad experience</th>\n",
       "      <th>full_text</th>\n",
       "    </tr>\n",
       "  </thead>\n",
       "  <tbody>\n",
       "    <tr>\n",
       "      <th>0</th>\n",
       "      <td>Mon Mar 18 11:05:04 +0000 2019</td>\n",
       "      <td>[46, 174]</td>\n",
       "      <td>0</td>\n",
       "      <td>0</td>\n",
       "      <td>@fictillius @christiansarkis @AndrewConstance ...</td>\n",
       "    </tr>\n",
       "    <tr>\n",
       "      <th>1</th>\n",
       "      <td>Mon Mar 18 09:52:46 +0000 2019</td>\n",
       "      <td>[0, 222]</td>\n",
       "      <td>1</td>\n",
       "      <td>0</td>\n",
       "      <td>Hey @AndrewConstance, thanks in advance for br...</td>\n",
       "    </tr>\n",
       "    <tr>\n",
       "      <th>2</th>\n",
       "      <td>Mon Mar 18 09:33:00 +0000 2019</td>\n",
       "      <td>[0, 280]</td>\n",
       "      <td>6</td>\n",
       "      <td>0</td>\n",
       "      <td>State Election: Transport Minister @AndrewCons...</td>\n",
       "    </tr>\n",
       "    <tr>\n",
       "      <th>3</th>\n",
       "      <td>Mon Mar 18 07:38:55 +0000 2019</td>\n",
       "      <td>[0, 92]</td>\n",
       "      <td>1</td>\n",
       "      <td>0</td>\n",
       "      <td>The worst delay was 21 minutes, on the 15:50 C...</td>\n",
       "    </tr>\n",
       "    <tr>\n",
       "      <th>4</th>\n",
       "      <td>Mon Mar 18 07:38:32 +0000 2019</td>\n",
       "      <td>[0, 77]</td>\n",
       "      <td>1</td>\n",
       "      <td>0</td>\n",
       "      <td>Between 16:00 and 18:30 today, 22% of trips ex...</td>\n",
       "    </tr>\n",
       "  </tbody>\n",
       "</table>\n",
       "</div>"
      ],
      "text/plain": [
       "                       created_at display_text_range  favorite_count  \\\n",
       "0  Mon Mar 18 11:05:04 +0000 2019          [46, 174]               0   \n",
       "1  Mon Mar 18 09:52:46 +0000 2019           [0, 222]               1   \n",
       "2  Mon Mar 18 09:33:00 +0000 2019           [0, 280]               6   \n",
       "3  Mon Mar 18 07:38:55 +0000 2019            [0, 92]               1   \n",
       "4  Mon Mar 18 07:38:32 +0000 2019            [0, 77]               1   \n",
       "\n",
       "   Bad experience                                          full_text  \n",
       "0               0  @fictillius @christiansarkis @AndrewConstance ...  \n",
       "1               0  Hey @AndrewConstance, thanks in advance for br...  \n",
       "2               0  State Election: Transport Minister @AndrewCons...  \n",
       "3               0  The worst delay was 21 minutes, on the 15:50 C...  \n",
       "4               0  Between 16:00 and 18:30 today, 22% of trips ex...  "
      ]
     },
     "execution_count": 1,
     "metadata": {},
     "output_type": "execute_result"
    }
   ],
   "source": [
    "# Load in the tweets files to variable dftweets\n",
    "import pandas as pd\n",
    "import csv\n",
    "filename = 'Tweets.csv'\n",
    "dftweets = pd.read_csv(filename)\n",
    "dftweets.head()"
   ]
  },
  {
   "cell_type": "code",
   "execution_count": 2,
   "metadata": {},
   "outputs": [
    {
     "data": {
      "text/plain": [
       "74"
      ]
     },
     "execution_count": 2,
     "metadata": {},
     "output_type": "execute_result"
    }
   ],
   "source": [
    "# LENGTH OF THE DATA: DO NOT REMOVE THIS TWO-LINE COMMENT. \n",
    "# THE LAST LINE IN THIS CELL SHOULD RETURN THE NUMBER OF TWEETS IN THE DATASET.\n",
    "total_rows_dftweets = dftweets.shape\n",
    "number_of_tweets = total_rows_dftweets[0]\n",
    "number_of_tweets"
   ]
  },
  {
   "cell_type": "code",
   "execution_count": 3,
   "metadata": {},
   "outputs": [
    {
     "data": {
      "text/plain": [
       "Index(['created_at', 'display_text_range', 'favorite_count', 'Bad experience',\n",
       "       'full_text'],\n",
       "      dtype='object')"
      ]
     },
     "execution_count": 3,
     "metadata": {},
     "output_type": "execute_result"
    }
   ],
   "source": [
    "# SAVE AND RETURN VARIABLE CALLED collist CONTAINING A LIST OF THE COLUMN HEADERS\n",
    "collist = dftweets.columns\n",
    "collist # Leave this as the last line"
   ]
  },
  {
   "cell_type": "code",
   "execution_count": 4,
   "metadata": {},
   "outputs": [],
   "source": [
    "# LEAVE THIS CELL HERE AND DO NOT EDIT\n",
    "import string\n",
    "punclist = list(string.punctuation)\n",
    "punclist.remove('#')\n",
    "punclist.remove('@')\n",
    "# LEAVE THIS CELL HERE AND DO NOT EDIT"
   ]
  },
  {
   "cell_type": "code",
   "execution_count": 32,
   "metadata": {},
   "outputs": [
    {
     "name": "stdout",
     "output_type": "stream",
     "text": [
      "full_text    @fictillius @christiansarkis @AndrewConstance ...\n",
      "Name: 0, dtype: object\n"
     ]
    },
    {
     "ename": "AttributeError",
     "evalue": "'str' object has no attribute 'lowercase'",
     "output_type": "error",
     "traceback": [
      "\u001b[0;31m---------------------------------------------------------------------------\u001b[0m",
      "\u001b[0;31mAttributeError\u001b[0m                            Traceback (most recent call last)",
      "\u001b[0;32m<ipython-input-32-110dba60b854>\u001b[0m in \u001b[0;36m<module>\u001b[0;34m\u001b[0m\n\u001b[1;32m     11\u001b[0m         \u001b[0mprint\u001b[0m\u001b[0;34m(\u001b[0m\u001b[0mtweets\u001b[0m\u001b[0;34m)\u001b[0m\u001b[0;34m\u001b[0m\u001b[0;34m\u001b[0m\u001b[0m\n\u001b[1;32m     12\u001b[0m \u001b[0;31m# Go through each line of tweets\u001b[0m\u001b[0;34m\u001b[0m\u001b[0;34m\u001b[0m\u001b[0;34m\u001b[0m\u001b[0m\n\u001b[0;32m---> 13\u001b[0;31m         \u001b[0mmod_text\u001b[0m \u001b[0;34m=\u001b[0m \u001b[0mtweets\u001b[0m\u001b[0;34m[\u001b[0m\u001b[0;34m'full_text'\u001b[0m\u001b[0;34m]\u001b[0m\u001b[0;34m.\u001b[0m\u001b[0mlowercase\u001b[0m\u001b[0;34m(\u001b[0m\u001b[0;34m)\u001b[0m\u001b[0;34m\u001b[0m\u001b[0;34m\u001b[0m\u001b[0m\n\u001b[0m\u001b[1;32m     14\u001b[0m         \u001b[0;31m# tweets = tweets['full_text'] = map(str.lower, tweets.columns)\u001b[0m\u001b[0;34m\u001b[0m\u001b[0;34m\u001b[0m\u001b[0;34m\u001b[0m\u001b[0m\n\u001b[1;32m     15\u001b[0m         \u001b[0mmod_text\u001b[0m\u001b[0;34m\u001b[0m\u001b[0;34m\u001b[0m\u001b[0m\n",
      "\u001b[0;31mAttributeError\u001b[0m: 'str' object has no attribute 'lowercase'"
     ]
    }
   ],
   "source": [
    "# CREATE AND SAVE COLUMN CALLED mod_text that has no punctuation and is case-insensitive.\n",
    "# Create a dataframe returns just the column contains tweets\n",
    "tweets = dftweets[dftweets.columns[4:]]\n",
    "tweets\n",
    "\n",
    "i = 0\n",
    "\n",
    "while i <= 73:\n",
    "# Make the characteristic in python to case-insensitive\n",
    "    for i, tweets in tweets.iterrows():\n",
    "        print(tweets)\n",
    "# Go through each line of tweets\n",
    "        mod_text = tweets['full_text'].lowercase()\n",
    "        # tweets = tweets['full_text'] = map(str.lower, tweets.columns)\n",
    "        mod_text"
   ]
  },
  {
   "cell_type": "code",
   "execution_count": 5,
   "metadata": {},
   "outputs": [],
   "source": [
    "# CREATE AND SAVE COLUMN CALLED mod_text that has no punctuation and is case-insensitive.\n",
    "# Save the full_text into a list\n",
    "full_text = list(dftweets['full_text'])\n",
    "full_text\n",
    "\n",
    "# Write in csv\n",
    "import csv\n",
    "\n",
    "# There is no attribute in list for \"replace\", so convert list into string\n",
    "my_str = str(full_text)\n",
    "\n",
    "# Change the case in full_text and remove the punctuations \n",
    "from string import punctuation\n",
    "\n",
    "for string in my_str:\n",
    "    for p in punctuation:\n",
    "        my_str = my_str.replace(p, '')\n",
    "full_text = str(my_str)\n",
    "\n",
    "with open('mod_text.csv','w') as csvFile:\n",
    "        writer = csv.writer(csvFile)\n",
    "        writer.writerows(full_text)\n",
    "\n",
    "csvFile.close()\n"
   ]
  },
  {
   "cell_type": "code",
   "execution_count": 6,
   "metadata": {},
   "outputs": [],
   "source": [
    "# CREATE A LIST OF THE TOP 10 WORDS IN THE DATA AND SAVE AS A CSV\n",
    "# Make the word appear in a ascending sequence"
   ]
  },
  {
   "cell_type": "code",
   "execution_count": 7,
   "metadata": {},
   "outputs": [
    {
     "ename": "TypeError",
     "evalue": "count() takes at least 1 argument (0 given)",
     "output_type": "error",
     "traceback": [
      "\u001b[0;31m---------------------------------------------------------------------------\u001b[0m",
      "\u001b[0;31mTypeError\u001b[0m                                 Traceback (most recent call last)",
      "\u001b[0;32m<ipython-input-7-0f52faeafa60>\u001b[0m in \u001b[0;36m<module>\u001b[0;34m\u001b[0m\n\u001b[0;32m----> 1\u001b[0;31m \u001b[0mfull_text\u001b[0m\u001b[0;34m.\u001b[0m\u001b[0mcount\u001b[0m\u001b[0;34m(\u001b[0m\u001b[0;34m)\u001b[0m\u001b[0;34m\u001b[0m\u001b[0;34m\u001b[0m\u001b[0m\n\u001b[0m",
      "\u001b[0;31mTypeError\u001b[0m: count() takes at least 1 argument (0 given)"
     ]
    }
   ],
   "source": [
    "full_text.count()"
   ]
  },
  {
   "cell_type": "code",
   "execution_count": null,
   "metadata": {},
   "outputs": [],
   "source": [
    "# CREATE A LIST OF THE TOP 10 WORDS IN THE BAD-EXPERIENCE DATA AND SAVE AS A CSV\n"
   ]
  },
  {
   "cell_type": "code",
   "execution_count": null,
   "metadata": {},
   "outputs": [],
   "source": []
  },
  {
   "cell_type": "markdown",
   "metadata": {},
   "source": [
    "Bayes' Rule says that the probability of a tweet being about a personal bad experience (A) given that it includes the word you have selected (B) is equal to the fraction of bad-experience tweets containing the word (p(B|A)) times the fraction of tweets that are about personal bad experiences (p(A)) and divided by the fraction of tweets that contain the word (p(B)). Your goal is to choose a word that maximises your ability to identify a tweet as being about a personal bad experience.\n",
    "$$ p(A|B)= \\frac{p(B|A)*p(A)}{p(B)}$$"
   ]
  },
  {
   "cell_type": "code",
   "execution_count": null,
   "metadata": {},
   "outputs": [],
   "source": [
    "# INSERT CELLS HERE FOR YOUR WORK"
   ]
  },
  {
   "cell_type": "code",
   "execution_count": null,
   "metadata": {},
   "outputs": [],
   "source": []
  },
  {
   "cell_type": "code",
   "execution_count": null,
   "metadata": {},
   "outputs": [],
   "source": []
  },
  {
   "cell_type": "code",
   "execution_count": null,
   "metadata": {},
   "outputs": [],
   "source": []
  },
  {
   "cell_type": "code",
   "execution_count": null,
   "metadata": {},
   "outputs": [],
   "source": []
  },
  {
   "cell_type": "code",
   "execution_count": null,
   "metadata": {},
   "outputs": [],
   "source": [
    "# PROVIDE A WORD FOR THE CLASSIFIER USING THE VARIABLE myword # LEAVE THIS LINE UNTOUCHED.\n",
    "myword = \n",
    "myword # DO NOT EDIT THE LAST LINE OF THIS CELL"
   ]
  }
 ],
 "metadata": {
  "kernelspec": {
   "display_name": "Python 3",
   "language": "python",
   "name": "python3"
  },
  "language_info": {
   "codemirror_mode": {
    "name": "ipython",
    "version": 3
   },
   "file_extension": ".py",
   "mimetype": "text/x-python",
   "name": "python",
   "nbconvert_exporter": "python",
   "pygments_lexer": "ipython3",
   "version": "3.7.3"
  }
 },
 "nbformat": 4,
 "nbformat_minor": 2
}
